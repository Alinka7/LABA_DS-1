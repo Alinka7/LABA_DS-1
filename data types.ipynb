{
 "cells": [
  {
   "cell_type": "markdown",
   "metadata": {},
   "source": [
    "### What is data type?"
   ]
  },
  {
   "cell_type": "markdown",
   "metadata": {},
   "source": [
    "A data type is a classification of data which tells the compiler or interpreter how the programmer intends to use the data. Most programming languages support various types of data, including integer, real, character or string, and Boolean.\n",
    "\n",
    "Careful understanding of data types and data structures is one of the most important\n",
    "basic skills you can gain as a programmer.\n",
    "\n",
    "So let's get acquainted with the data types in Python\n"
   ]
  },
  {
   "cell_type": "markdown",
   "metadata": {},
   "source": [
    "### Numeric Types "
   ]
  },
  {
   "cell_type": "markdown",
   "metadata": {},
   "source": [
    "#### What are numeric types?"
   ]
  },
  {
   "cell_type": "markdown",
   "metadata": {},
   "source": [
    "Number data types stire numeric values. They are **immutable** data types.\n",
    "**Immutable** is when no change is possible over time.\n",
    "\n",
    "In python there are three different numerical types\n",
    "- **integers**. It is a whole number, positive or negative, without decimals, of unlimited length.\n",
    "- **floating point numbers**. It is any number with a decimal point. \n",
    "- **complex numbers**. It is an extension of the familiar real number system in which all numbers are expressed as a sum of a real part and an imaginary part.\n",
    "\n",
    "Variables of numeric types are created when you assign a value to them"
   ]
  },
  {
   "cell_type": "markdown",
   "metadata": {},
   "source": [
    "### Integers "
   ]
  },
  {
   "cell_type": "markdown",
   "metadata": {},
   "source": [
    "`Int`, or `integer`, is a whole number, positive or negative, without decimals, of unlimited length.\n",
    "To verify the type of any object in Python, use the `type()` function."
   ]
  },
  {
   "cell_type": "code",
   "execution_count": 16,
   "metadata": {},
   "outputs": [
    {
     "name": "stdout",
     "output_type": "stream",
     "text": [
      "it`s x: 7\n",
      "it`s y: -10000\n"
     ]
    }
   ],
   "source": [
    "x = 7\n",
    "y = -10000\n",
    "print(f'it`s x: {x}')\n",
    "print(f'it`s y: {y}')"
   ]
  },
  {
   "cell_type": "code",
   "execution_count": 17,
   "metadata": {},
   "outputs": [
    {
     "name": "stdout",
     "output_type": "stream",
     "text": [
      " the type of x is <class 'int'>\n",
      " the type of y is <class 'int'>\n"
     ]
    }
   ],
   "source": [
    "print(f' the type of x is {type(x)}')\n",
    "print(f' the type of y is {type(y)}')\n"
   ]
  },
  {
   "cell_type": "markdown",
   "metadata": {},
   "source": [
    "\n",
    "Integers are a commonly used data type in computer programming. For example, whenever a number is being incremented, such as within a \"for loop\" or \"while loop,\" an integer is used. Integers are also used to determine an item's location within an array."
   ]
  },
  {
   "cell_type": "markdown",
   "metadata": {},
   "source": [
    "Create three variables : `a, b, c` with the following values: `100, -5, -12350`. And check the type of this object."
   ]
  },
  {
   "cell_type": "code",
   "execution_count": 18,
   "metadata": {},
   "outputs": [
    {
     "name": "stdout",
     "output_type": "stream",
     "text": [
      "it`s a: 100, the type of a is <class 'int'>\n",
      "it`s b: -5, the type of b is <class 'int'>\n",
      "it`s c: -12350, the type of c is <class 'int'>\n"
     ]
    }
   ],
   "source": [
    "a = 100\n",
    "b = -5\n",
    "c = -12350\n",
    "print(f'it`s a: {a}, the type of a is {type(a)}')\n",
    "print(f'it`s b: {b}, the type of b is {type(b)}')\n",
    "print(f'it`s c: {c}, the type of c is {type(c)}')\n"
   ]
  },
  {
   "cell_type": "markdown",
   "metadata": {},
   "source": [
    "### Floating Point Numbers"
   ]
  },
  {
   "cell_type": "markdown",
   "metadata": {},
   "source": [
    "`Float`, or `floating point number` is a number, positive or negative, containing one or more decimals.\n",
    "\n",
    "`Float` is used to represent real numbers and is written with a decimal point dividing the integer and fractional parts. For example, 23.34, 29.4+e19, -12.32e100 all are floating point numbers"
   ]
  },
  {
   "cell_type": "code",
   "execution_count": 22,
   "metadata": {},
   "outputs": [
    {
     "name": "stdout",
     "output_type": "stream",
     "text": [
      "it`s x: 100.12, the type of x is <class 'float'>\n",
      "it`s y: -5.5632, the type of y is <class 'float'>\n",
      "it`s z: -12350.0, the type of z is <class 'float'>\n"
     ]
    }
   ],
   "source": [
    "x = 100.12\n",
    "y = -5.5632\n",
    "z = -12350.0\n",
    "print(f'it`s x: {x}, the type of x is {type(x)}')\n",
    "print(f'it`s y: {y}, the type of y is {type(y)}')\n",
    "print(f'it`s z: {z}, the type of z is {type(z)}')\n"
   ]
  },
  {
   "cell_type": "markdown",
   "metadata": {},
   "source": [
    "Float can also be scientific numbers with an \"e\" to indicate the power of 10."
   ]
  },
  {
   "cell_type": "code",
   "execution_count": 25,
   "metadata": {},
   "outputs": [
    {
     "name": "stdout",
     "output_type": "stream",
     "text": [
      "it`s x: 23400000.0, the type of x is <class 'float'>\n",
      "it`s y: 190000.0, the type of y is <class 'float'>\n",
      "it`s z: -1.12e+101, the type of z is <class 'float'>\n"
     ]
    }
   ],
   "source": [
    "x = 234e5\n",
    "y = 19E4\n",
    "z = -11.2e100\n",
    "\n",
    "print(f'it`s x: {x}, the type of x is {type(x)}')\n",
    "print(f'it`s y: {y}, the type of y is {type(y)}')\n",
    "print(f'it`s z: {z}, the type of z is {type(z)}')"
   ]
  },
  {
   "cell_type": "markdown",
   "metadata": {},
   "source": [
    "Create three variables : `a, b, c` with the following values: `2495e4, -5.0, 985.5067`. And check the type of this object."
   ]
  },
  {
   "cell_type": "code",
   "execution_count": 28,
   "metadata": {},
   "outputs": [
    {
     "name": "stdout",
     "output_type": "stream",
     "text": [
      "it`s a: 24950000.0, the type of a is <class 'float'>\n",
      "it`s b: -5.0, the type of b is <class 'float'>\n",
      "it`s c: 985.5067, the type of c is <class 'float'>\n"
     ]
    }
   ],
   "source": [
    "a = 2495e4\n",
    "b = -5.0\n",
    "c = 985.5067\n",
    "print(f'it`s a: {a}, the type of a is {type(a)}')\n",
    "print(f'it`s b: {b}, the type of b is {type(b)}')\n",
    "print(f'it`s c: {c}, the type of c is {type(c)}')\n"
   ]
  },
  {
   "cell_type": "markdown",
   "metadata": {},
   "source": [
    "### Complex Numbers "
   ]
  },
  {
   "cell_type": "markdown",
   "metadata": {},
   "source": [
    "`Complex` numbers are an extension of the familiar real number system in which all numbers are expressed as a sum of a real part and an imaginary part. \n",
    "\n",
    "Python has built-in support for complex numbers, which are written with this latter notation, the imaginary part is written with a `j` suffix"
   ]
  },
  {
   "cell_type": "code",
   "execution_count": 31,
   "metadata": {},
   "outputs": [
    {
     "name": "stdout",
     "output_type": "stream",
     "text": [
      "it`s x: (3543+52j), the type of x is <class 'complex'>\n",
      "it`s y: 2.5j, the type of y is <class 'complex'>\n",
      "it`s z: (-0-588j), the type of z is <class 'complex'>\n"
     ]
    }
   ],
   "source": [
    "x = 3543+52j\n",
    "y = 2.5j\n",
    "z = -588j\n",
    "\n",
    "print(f'it`s x: {x}, the type of x is {type(x)}')\n",
    "print(f'it`s y: {y}, the type of y is {type(y)}')\n",
    "print(f'it`s z: {z}, the type of z is {type(z)}')"
   ]
  },
  {
   "cell_type": "markdown",
   "metadata": {},
   "source": [
    "Create three variables : `a, b, c` with the following values: `-7+3j, 1.4+6.7j, -65j`. And check the type of this object."
   ]
  },
  {
   "cell_type": "code",
   "execution_count": 32,
   "metadata": {},
   "outputs": [
    {
     "name": "stdout",
     "output_type": "stream",
     "text": [
      "it`s a: (-7+3j), the type of a is <class 'complex'>\n",
      "it`s b: (1.4+6.7j), the type of b is <class 'complex'>\n",
      "it`s c: (-0-65j), the type of c is <class 'complex'>\n"
     ]
    }
   ],
   "source": [
    "a = -7+3j\n",
    "b = 1.4+6.7j\n",
    "c = -65j\n",
    "print(f'it`s a: {a}, the type of a is {type(a)}')\n",
    "print(f'it`s b: {b}, the type of b is {type(b)}')\n",
    "print(f'it`s c: {c}, the type of c is {type(c)}')\n"
   ]
  },
  {
   "cell_type": "markdown",
   "metadata": {},
   "source": [
    "#### Python int() "
   ]
  },
  {
   "cell_type": "markdown",
   "metadata": {},
   "source": [
    "The `int()` method returns an integer object from any number or string.\n",
    "\n",
    "**The syntax of `int()` method is**:\n",
    "`int(x=0, base=10)`\n",
    "Parameters:\n",
    "- x - Number or string to be converted to integer object. The default argument is zero.\n",
    "- base - Base of the number in x. Can be 0 (code literal) or 2-36.\n",
    "\n",
    "**Return value**:\n",
    "- an integer object from the given number or string treats default base as 10\n",
    "- (No parameters) returns 0\n",
    "- (If base given) treats the string in the given base (0, 2, 8, 10, 16)\n",
    "\n",
    "**How `int()` works in Python?**"
   ]
  },
  {
   "cell_type": "code",
   "execution_count": 37,
   "metadata": {},
   "outputs": [
    {
     "name": "stdout",
     "output_type": "stream",
     "text": [
      "integer object from 65.98234 is 65\n",
      "integer object from 7.53 is 7\n",
      "integer object from 54 is 54\n"
     ]
    }
   ],
   "source": [
    "x = 65.98234\n",
    "y = 7.53\n",
    "z = 54\n",
    "\n",
    "print(f'integer object from {x} is {int(x)}')\n",
    "print(f'integer object from {y} is {int(y)}')\n",
    "print(f'integer object from {z} is {int(z)}')"
   ]
  },
  {
   "cell_type": "markdown",
   "metadata": {},
   "source": [
    "### Python float()"
   ]
  },
  {
   "cell_type": "markdown",
   "metadata": {},
   "source": [
    "The `float()` method returns a floating point number from a number or a string.\n",
    "\n",
    "**The syntax of `float()` method is**:\n",
    "`float([x])`\n",
    "Parameters:\n",
    "- x (Optional) - number or string that needs to be converted to floating point number. If it's a string, the string should contain decimal points\n",
    "\n",
    "**Return value**:\n",
    "- Equivalent floating point number if an argument is passed\n",
    "- 0.0 if no arguments passed\n",
    "- OverflowError exception if the argument is outside the range of Python float\n",
    "\n",
    "**How `float()` works in Python?**"
   ]
  },
  {
   "cell_type": "code",
   "execution_count": 38,
   "metadata": {},
   "outputs": [
    {
     "name": "stdout",
     "output_type": "stream",
     "text": [
      "a floating point number from  65.98234 is 65.98234\n",
      "a floating point number from  7 is 7.0\n",
      "a floating point number from  54 is 54.0\n"
     ]
    }
   ],
   "source": [
    "x = 65.98234\n",
    "y = 7\n",
    "z = 54\n",
    "\n",
    "print(f'a floating point number from  {x} is {float(x)}')\n",
    "print(f'a floating point number from  {y} is {float(y)}')\n",
    "print(f'a floating point number from  {z} is {float(z)}')"
   ]
  },
  {
   "cell_type": "markdown",
   "metadata": {},
   "source": [
    "### Python complex() "
   ]
  },
  {
   "cell_type": "markdown",
   "metadata": {},
   "source": [
    "The `complex()` method returns a complex number when real and imaginary parts are provided, or it converts a string to a complex number.\n",
    "\n",
    "**The syntax of `complex()` method is**:\n",
    "`complex([real[, imag]])`\n",
    "Parameters:\n",
    "- real - real part. If real is omitted, it defaults to 0.\n",
    "- imag - imaginary part. If imag is omitted, it defaults to 0.\n",
    "\n",
    "**Return value**:\n",
    "- As suggested by the name, complex() method returns a complex number.\n",
    "\n",
    "- If the string passed to this method is not a valid complex number, ValueError exception is raised.\n",
    "\n",
    "**How `complex()` works in Python?**"
   ]
  },
  {
   "cell_type": "code",
   "execution_count": 41,
   "metadata": {},
   "outputs": [
    {
     "name": "stdout",
     "output_type": "stream",
     "text": [
      "a floating point number from  65.98234 is (65.98234+0j)\n",
      "a floating point number from  (7+4j) is (7+4j)\n",
      "a floating point number from  54 is (54+0j)\n"
     ]
    }
   ],
   "source": [
    "x = 65.98234\n",
    "y = 7+4j\n",
    "z = 54\n",
    "\n",
    "print(f'a floating point number from  {x} is {complex(x)}')\n",
    "print(f'a floating point number from  {y} is {complex(y)}')\n",
    "print(f'a floating point number from  {z} is {complex(z)}')"
   ]
  },
  {
   "cell_type": "markdown",
   "metadata": {},
   "source": [
    "### Arithmetic operation "
   ]
  },
  {
   "cell_type": "markdown",
   "metadata": {},
   "source": [
    "Mathematical operations, such as addition, subtraction, multiplication, and division, are called arithmetic operations. \n",
    "Python provides arithmetic operators that allow you to perform arithmetic operations. The following include arithmetic operations in Python, along with their meaning:"
   ]
  },
  {
   "cell_type": "markdown",
   "metadata": {},
   "source": [
    "\n",
    "</style>\n",
    "</head>\n",
    "<body>\n",
    "\n",
    "\n",
    "<table>\n",
    "  <tr>\n",
    "    <th>Operator</th>\n",
    "    <th>Meaning</th>\n",
    "  </tr>\n",
    "  <tr>\n",
    "    <td> + </td>\n",
    "    <td>Addition of two operands.</td>\n",
    "  </tr>\n",
    "  <tr>\n",
    "    <td> - </td>\n",
    "    <td>Subtraction of the first operand (left operand) from the second operand (right operand)</td>\n",
    "  </tr>\n",
    "  <tr>\n",
    "    <td> * </td>\n",
    "    <td>\tMultiplication of two operands.</td>\n",
    "  </tr>\n",
    "  <tr>\n",
    "    <td> / </td>\n",
    "    <td>Division of two operands.</td>\n",
    "  </tr>\n",
    "  <tr>\n",
    "    <td> % </td>\n",
    "    <td>Modulus. The remainder of the division of two operands.</td>\n",
    "  </tr>\n",
    "  <tr>\n",
    "    <td> // </td>\n",
    "    <td>\tFloor division. It always returns the floor value for integers and floats.</td>\n",
    "  </tr>\n",
    "      <tr>\n",
    "    <td> ** </td>\n",
    "    <td>Exponent. The first operand is raised to the power of the second operand.</td>\n",
    "  </tr>\n",
    "</table>\n",
    "    </body>\n",
    "</html>\n",
    "\n"
   ]
  },
  {
   "cell_type": "markdown",
   "metadata": {},
   "source": [
    "### Using Arithmetic Operators in Python "
   ]
  },
  {
   "cell_type": "markdown",
   "metadata": {},
   "source": [
    "Let's look at an example pf using arithmetic operators in Python. We will perform an arithmetic operation using the arithmetic operator."
   ]
  },
  {
   "cell_type": "markdown",
   "metadata": {},
   "source": [
    "#### Addition "
   ]
  },
  {
   "cell_type": "code",
   "execution_count": 42,
   "metadata": {},
   "outputs": [
    {
     "name": "stdout",
     "output_type": "stream",
     "text": [
      "the sum of 5 and 34.5 is 39.5\n"
     ]
    }
   ],
   "source": [
    "num1 = 5\n",
    "num2 = 34.5\n",
    "\n",
    "print(f'the sum of {num1} and {num2} is {num1+num2}')"
   ]
  },
  {
   "cell_type": "markdown",
   "metadata": {},
   "source": [
    "You have 2 integers, add them."
   ]
  },
  {
   "cell_type": "code",
   "execution_count": 44,
   "metadata": {},
   "outputs": [
    {
     "name": "stdout",
     "output_type": "stream",
     "text": [
      "the sum is 898\n"
     ]
    }
   ],
   "source": [
    "a = 245\n",
    "b = 653\n",
    "\n",
    "print(f'the sum is {a+b}')"
   ]
  },
  {
   "cell_type": "markdown",
   "metadata": {},
   "source": [
    "You have 2 floating point numbers, add them."
   ]
  },
  {
   "cell_type": "code",
   "execution_count": 45,
   "metadata": {},
   "outputs": [
    {
     "name": "stdout",
     "output_type": "stream",
     "text": [
      "the sum is 920.455\n"
     ]
    }
   ],
   "source": [
    "a = 43.6\n",
    "b = 876.855\n",
    "\n",
    "print(f'the sum is {a+b}')"
   ]
  },
  {
   "cell_type": "markdown",
   "metadata": {},
   "source": [
    "You have 2 complex numbers, add them."
   ]
  },
  {
   "cell_type": "code",
   "execution_count": 46,
   "metadata": {},
   "outputs": [
    {
     "name": "stdout",
     "output_type": "stream",
     "text": [
      "the sum is (920.455+239.234j)\n"
     ]
    }
   ],
   "source": [
    "a = 43.6 + 4j\n",
    "b = 876.855 + 235.234j\n",
    "\n",
    "print(f'the sum is {a+b}')"
   ]
  },
  {
   "cell_type": "markdown",
   "metadata": {},
   "source": [
    "####  Subtraction"
   ]
  },
  {
   "cell_type": "code",
   "execution_count": 47,
   "metadata": {},
   "outputs": [
    {
     "name": "stdout",
     "output_type": "stream",
     "text": [
      "the subtraction of 5 and 34.5 is -29.5\n"
     ]
    }
   ],
   "source": [
    "num1 = 5\n",
    "num2 = 34.5\n",
    "\n",
    "print(f'the subtraction of {num1} and {num2} is {num1-num2}')"
   ]
  },
  {
   "cell_type": "code",
   "execution_count": null,
   "metadata": {},
   "outputs": [],
   "source": [
    "You have 2 integers, subtract them."
   ]
  },
  {
   "cell_type": "code",
   "execution_count": null,
   "metadata": {},
   "outputs": [],
   "source": [
    "a = 245\n",
    "b = 653\n",
    "\n",
    "print(f'the subtract is {a-b}')"
   ]
  },
  {
   "cell_type": "code",
   "execution_count": null,
   "metadata": {},
   "outputs": [],
   "source": [
    "You have 2 floating point numbers, subtract them."
   ]
  },
  {
   "cell_type": "code",
   "execution_count": 49,
   "metadata": {},
   "outputs": [
    {
     "name": "stdout",
     "output_type": "stream",
     "text": [
      "the subtract is -833.255\n"
     ]
    }
   ],
   "source": [
    "a = 43.6\n",
    "b = 876.855\n",
    "\n",
    "print(f'the subtract is {a-b}')"
   ]
  },
  {
   "cell_type": "code",
   "execution_count": null,
   "metadata": {},
   "outputs": [],
   "source": [
    "You have 2 complex numbers, subtract them."
   ]
  },
  {
   "cell_type": "code",
   "execution_count": 48,
   "metadata": {},
   "outputs": [
    {
     "name": "stdout",
     "output_type": "stream",
     "text": [
      "the subtract is (-833.255-231.234j)\n"
     ]
    }
   ],
   "source": [
    "a = 43.6 + 4j\n",
    "b = 876.855 + 235.234j\n",
    "\n",
    "print(f'the subtract is {a-b}')"
   ]
  },
  {
   "cell_type": "markdown",
   "metadata": {},
   "source": [
    "#### Multiplication"
   ]
  },
  {
   "cell_type": "code",
   "execution_count": null,
   "metadata": {},
   "outputs": [],
   "source": [
    "num1 = 5\n",
    "num2 = 34.5\n",
    "\n",
    "print(f'the multiplication of {num1} and {num2} is {num1*num2}')"
   ]
  },
  {
   "cell_type": "markdown",
   "metadata": {},
   "source": [
    "You have 2 integers, multiply  them."
   ]
  },
  {
   "cell_type": "code",
   "execution_count": 52,
   "metadata": {},
   "outputs": [
    {
     "name": "stdout",
     "output_type": "stream",
     "text": [
      "the multiplication is -408\n"
     ]
    }
   ],
   "source": [
    "a = 245\n",
    "b = 653\n",
    "\n",
    "print(f'the multiplication is {a-b}')"
   ]
  },
  {
   "cell_type": "markdown",
   "metadata": {},
   "source": [
    "You have 2 floating point numbers, multiply  them."
   ]
  },
  {
   "cell_type": "code",
   "execution_count": 51,
   "metadata": {},
   "outputs": [
    {
     "name": "stdout",
     "output_type": "stream",
     "text": [
      "the multiplication is 38230.878000000004\n"
     ]
    }
   ],
   "source": [
    "a = 43.6\n",
    "b = 876.855\n",
    "\n",
    "print(f'the multiplication is {a*b}')"
   ]
  },
  {
   "cell_type": "markdown",
   "metadata": {},
   "source": [
    "You have 2 complex numbers, multiply  them."
   ]
  },
  {
   "cell_type": "code",
   "execution_count": 56,
   "metadata": {},
   "outputs": [
    {
     "name": "stdout",
     "output_type": "stream",
     "text": [
      "the multiplication is (3264.4+404.2j)\n"
     ]
    }
   ],
   "source": [
    "a = 40.5 + 4j\n",
    "b = 80.8 + 2j\n",
    "\n",
    "print(f'the multiplication is {a*b}')"
   ]
  },
  {
   "cell_type": "markdown",
   "metadata": {},
   "source": [
    "#### Division "
   ]
  },
  {
   "cell_type": "code",
   "execution_count": 57,
   "metadata": {},
   "outputs": [
    {
     "name": "stdout",
     "output_type": "stream",
     "text": [
      "the division of 35 and 7 is 5.0\n"
     ]
    }
   ],
   "source": [
    "num1 = 35\n",
    "num2 = 7\n",
    "\n",
    "print(f'the division of {num1} and {num2} is {num1/num2}')"
   ]
  },
  {
   "cell_type": "markdown",
   "metadata": {},
   "source": [
    "You have 2 numbers, divide them."
   ]
  },
  {
   "cell_type": "code",
   "execution_count": 58,
   "metadata": {},
   "outputs": [
    {
     "name": "stdout",
     "output_type": "stream",
     "text": [
      "the division of 78 and 8 is 9.75\n"
     ]
    }
   ],
   "source": [
    "a = 78\n",
    "b = 8\n",
    "\n",
    "print(f'the division of {a} and {b} is {a/b}')"
   ]
  },
  {
   "cell_type": "markdown",
   "metadata": {},
   "source": [
    "#### Modulus "
   ]
  },
  {
   "cell_type": "code",
   "execution_count": null,
   "metadata": {},
   "outputs": [],
   "source": [
    "num1 = 65\n",
    "num2 = 7\n",
    "\n",
    "print(f'the remainder of the division  of {num1} and {num2} is {num1%num2}')"
   ]
  },
  {
   "cell_type": "code",
   "execution_count": null,
   "metadata": {},
   "outputs": [],
   "source": [
    "You have 2 numbers, take the remainder of the division of them."
   ]
  },
  {
   "cell_type": "code",
   "execution_count": 60,
   "metadata": {},
   "outputs": [
    {
     "name": "stdout",
     "output_type": "stream",
     "text": [
      "the remainder of the division  of 78 and 8 is 6\n"
     ]
    }
   ],
   "source": [
    "a = 78\n",
    "b = 8\n",
    "\n",
    "print(f'the remainder of the division  of {a} and {b} is {a%b}')"
   ]
  },
  {
   "cell_type": "markdown",
   "metadata": {},
   "source": [
    "#### Floor value"
   ]
  },
  {
   "cell_type": "code",
   "execution_count": 62,
   "metadata": {},
   "outputs": [
    {
     "name": "stdout",
     "output_type": "stream",
     "text": [
      "the floor value of 65 and 7 is 9\n"
     ]
    }
   ],
   "source": [
    "num1 = 65\n",
    "num2 = 7\n",
    "\n",
    "print(f'the floor value of {num1} and {num2} is {num1//num2}')"
   ]
  },
  {
   "cell_type": "markdown",
   "metadata": {},
   "source": [
    "You have 2 numbers, take the floor value of them."
   ]
  },
  {
   "cell_type": "code",
   "execution_count": 64,
   "metadata": {},
   "outputs": [
    {
     "name": "stdout",
     "output_type": "stream",
     "text": [
      "the floor value of 78 and 8 is 9\n"
     ]
    }
   ],
   "source": [
    "a = 78\n",
    "b = 8\n",
    "\n",
    "print(f'the floor value of {a} and {b} is {a//b}')"
   ]
  },
  {
   "cell_type": "markdown",
   "metadata": {},
   "source": [
    "### Exponent "
   ]
  },
  {
   "cell_type": "code",
   "execution_count": null,
   "metadata": {},
   "outputs": [],
   "source": [
    "num1 = 55\n",
    "num2 = 2\n",
    "\n",
    "print(f'the floor value of {num1} and {num2} is {num1**num2}')"
   ]
  },
  {
   "cell_type": "markdown",
   "metadata": {},
   "source": [
    "You have 2 numbers, take the exponent value of them."
   ]
  },
  {
   "cell_type": "code",
   "execution_count": 68,
   "metadata": {},
   "outputs": [
    {
     "name": "stdout",
     "output_type": "stream",
     "text": [
      "the floor value of 7 and 3 is 343\n"
     ]
    }
   ],
   "source": [
    "a = 7\n",
    "b = 3\n",
    "\n",
    "print(f'the floor value of {a} and {b} is {a**b}')"
   ]
  },
  {
   "cell_type": "markdown",
   "metadata": {},
   "source": [
    "## Boolean Type"
   ]
  },
  {
   "cell_type": "markdown",
   "metadata": {},
   "source": [
    "A variable of type `Boolean` can take only to values - either **False** of **True**. \n",
    "\n",
    "The following values are considered **False** in Python:\n",
    "- **None**\n",
    "- Zero of any numeric tupe. For example,`0, 0.0, 0j`\n",
    "- Empty sequence. For example, `( ), [ ], ' ' `\n",
    "- Empty mapping. For example, `{ }`.\n"
   ]
  },
  {
   "cell_type": "code",
   "execution_count": 73,
   "metadata": {},
   "outputs": [
    {
     "name": "stdout",
     "output_type": "stream",
     "text": [
      "<class 'bool'>\n",
      "<class 'bool'>\n"
     ]
    }
   ],
   "source": [
    "a = True\n",
    "print(type(a))\n",
    "\n",
    "b = False\n",
    "print(type(b))"
   ]
  },
  {
   "cell_type": "markdown",
   "metadata": {},
   "source": [
    "**Note** the keywords True and False must have an Upper Case first letter. Using a lowercase true returns an error."
   ]
  },
  {
   "cell_type": "code",
   "execution_count": 74,
   "metadata": {},
   "outputs": [
    {
     "ename": "NameError",
     "evalue": "name 'true' is not defined",
     "output_type": "error",
     "traceback": [
      "\u001b[1;31m---------------------------------------------------------------------------\u001b[0m",
      "\u001b[1;31mNameError\u001b[0m                                 Traceback (most recent call last)",
      "\u001b[1;32m<ipython-input-74-edb1f4cdcad3>\u001b[0m in \u001b[0;36m<module>\u001b[1;34m\u001b[0m\n\u001b[1;32m----> 1\u001b[1;33m \u001b[0ma\u001b[0m \u001b[1;33m=\u001b[0m \u001b[0mtrue\u001b[0m\u001b[1;33m\u001b[0m\u001b[1;33m\u001b[0m\u001b[0m\n\u001b[0m\u001b[0;32m      2\u001b[0m \u001b[0mprint\u001b[0m\u001b[1;33m(\u001b[0m\u001b[0mtype\u001b[0m\u001b[1;33m(\u001b[0m\u001b[0ma\u001b[0m\u001b[1;33m)\u001b[0m\u001b[1;33m)\u001b[0m\u001b[1;33m\u001b[0m\u001b[1;33m\u001b[0m\u001b[0m\n",
      "\u001b[1;31mNameError\u001b[0m: name 'true' is not defined"
     ]
    }
   ],
   "source": [
    "a = true\n",
    "print(type(a))"
   ]
  },
  {
   "cell_type": "code",
   "execution_count": 71,
   "metadata": {},
   "outputs": [
    {
     "name": "stdout",
     "output_type": "stream",
     "text": [
      "True\n",
      "<class 'bool'>\n"
     ]
    }
   ],
   "source": [
    "x = 5 > 3\n",
    "print(x)\n",
    "print(type(x))"
   ]
  },
  {
   "cell_type": "code",
   "execution_count": 72,
   "metadata": {},
   "outputs": [
    {
     "name": "stdout",
     "output_type": "stream",
     "text": [
      "True\n",
      "<class 'bool'>\n"
     ]
    }
   ],
   "source": [
    "y = 6 > 1\n",
    "print(y)\n",
    "print(type(y))"
   ]
  },
  {
   "cell_type": "markdown",
   "metadata": {},
   "source": [
    "In Python, `Boolean` and `Integer` data types are closely related: the boolean data type internally uses integer values(by default, the `Boolean` value **False** is represented by integer **0**, and the `Boolean` value **True** is represented by integer **1**."
   ]
  },
  {
   "cell_type": "markdown",
   "metadata": {},
   "source": [
    " ### Python bool()"
   ]
  },
  {
   "cell_type": "markdown",
   "metadata": {},
   "source": [
    "The `bool()` function converts a value to Boolean (True or False) using the standard truth testing procedure.\n",
    "\n",
    "**The syntax of `bool()` method is**:\n",
    "`bool([value])`\n",
    "Parameters:\n",
    "- It's not mandatory to pass a value to bool(). If you do not pass a value, bool() returns False.\n",
    "- In general use, bool() takes a single parameter value.\n",
    "\n",
    "**Return value**:\n",
    "- False if the value is omitted or false\n",
    "- True if the value is true\n",
    "\n",
    "**How `bool()` works in Python?**"
   ]
  },
  {
   "cell_type": "code",
   "execution_count": 76,
   "metadata": {},
   "outputs": [
    {
     "data": {
      "text/plain": [
       "False"
      ]
     },
     "execution_count": 76,
     "metadata": {},
     "output_type": "execute_result"
    }
   ],
   "source": [
    "zero = 0\n",
    "bool(zero)"
   ]
  },
  {
   "cell_type": "code",
   "execution_count": 77,
   "metadata": {},
   "outputs": [
    {
     "data": {
      "text/plain": [
       "True"
      ]
     },
     "execution_count": 77,
     "metadata": {},
     "output_type": "execute_result"
    }
   ],
   "source": [
    "one = 1\n",
    "bool(one)"
   ]
  },
  {
   "cell_type": "code",
   "execution_count": 78,
   "metadata": {},
   "outputs": [
    {
     "data": {
      "text/plain": [
       "False"
      ]
     },
     "execution_count": 78,
     "metadata": {},
     "output_type": "execute_result"
    }
   ],
   "source": [
    "x = None\n",
    "bool(x)"
   ]
  },
  {
   "cell_type": "markdown",
   "metadata": {},
   "source": [
    "### Keywords: and, or, not"
   ]
  },
  {
   "cell_type": "markdown",
   "metadata": {},
   "source": [
    "You can use `Booleans` with **three important keywords** to\n",
    "create more complicated expressions in Python.\n",
    "\n",
    "`Boolean` expressions represent basic logical operators. Using\n",
    "them in combination with only the following three keywords,\n",
    "you can craft a wide variety of potentially complicated\n",
    "expressions:\n"
   ]
  },
  {
   "cell_type": "markdown",
   "metadata": {},
   "source": [
    "- **and**. The expression x and y evaluates to True if value x is True\n",
    "and value y is True. If either of those is False, the overall\n",
    "expression becomes False too.\n",
    "- **or**. The expression x or y evaluates to True if value x is True or\n",
    "value y is True (or both values are True). If even just one of\n",
    "those is True, the overall expression becomes True too.\n",
    "- **not**. The expression not x evaluates to True if value x is False.\n",
    "Otherwise, the expression evaluates to False"
   ]
  },
  {
   "cell_type": "code",
   "execution_count": 80,
   "metadata": {},
   "outputs": [
    {
     "name": "stdout",
     "output_type": "stream",
     "text": [
      "False\n"
     ]
    }
   ],
   "source": [
    "x, y = True, False\n",
    "print((x or y) == False)"
   ]
  },
  {
   "cell_type": "code",
   "execution_count": 81,
   "metadata": {},
   "outputs": [
    {
     "name": "stdout",
     "output_type": "stream",
     "text": [
      "True\n"
     ]
    }
   ],
   "source": [
    "x, y = True, False\n",
    "print((x and y) == False)"
   ]
  },
  {
   "cell_type": "code",
   "execution_count": 82,
   "metadata": {},
   "outputs": [
    {
     "name": "stdout",
     "output_type": "stream",
     "text": [
      "True\n"
     ]
    }
   ],
   "source": [
    "x = False\n",
    "print(not x)"
   ]
  },
  {
   "cell_type": "markdown",
   "metadata": {},
   "source": [
    "By using these three keywords, you can express all the logical expressions you will ever need."
   ]
  },
  {
   "cell_type": "markdown",
   "metadata": {},
   "source": [
    "# Strings"
   ]
  },
  {
   "cell_type": "markdown",
   "metadata": {},
   "source": [
    "It is a derived data type. Strings are `immutable`. This means that once defined, they cannot be changed"
   ]
  },
  {
   "cell_type": "markdown",
   "metadata": {},
   "source": [
    "- A string is a sequence of characters.\n",
    "\n"
   ]
  },
  {
   "cell_type": "code",
   "execution_count": 87,
   "metadata": {},
   "outputs": [
    {
     "name": "stdout",
     "output_type": "stream",
     "text": [
      "hello\n"
     ]
    }
   ],
   "source": [
    "string = 'hello'\n",
    "print(string)"
   ]
  },
  {
   "cell_type": "markdown",
   "metadata": {},
   "source": [
    "- A string literal uses quotes \"python\" or 'python'."
   ]
  },
  {
   "cell_type": "code",
   "execution_count": 85,
   "metadata": {},
   "outputs": [
    {
     "name": "stdout",
     "output_type": "stream",
     "text": [
      "hello\n",
      "hello\n"
     ]
    }
   ],
   "source": [
    "string_1 = \"hello\"\n",
    "string_2 = 'hello'\n",
    "print(string_1)\n",
    "print(string_2)"
   ]
  },
  {
   "cell_type": "markdown",
   "metadata": {},
   "source": [
    "- **multiline Strings**\n",
    "\n",
    "You can assign a multiline string to a variable by using three quotes"
   ]
  },
  {
   "cell_type": "code",
   "execution_count": 93,
   "metadata": {},
   "outputs": [
    {
     "name": "stdout",
     "output_type": "stream",
     "text": [
      "Roses are red \n",
      "Violets are blue \n",
      "Cats can learn Python\n",
      "What about you?\n"
     ]
    }
   ],
   "source": [
    "string = '''Roses are red \n",
    "Violets are blue \n",
    "Cats can learn Python\n",
    "What about you?'''\n",
    "print(string)"
   ]
  },
  {
   "cell_type": "markdown",
   "metadata": {},
   "source": [
    "- When a string contains numbers, it's still a string.\n"
   ]
  },
  {
   "cell_type": "code",
   "execution_count": 89,
   "metadata": {},
   "outputs": [
    {
     "name": "stdout",
     "output_type": "stream",
     "text": [
      "python3\n",
      "<class 'str'>\n"
     ]
    }
   ],
   "source": [
    "string = 'python3'\n",
    "print(string)\n",
    "print(type(string))"
   ]
  },
  {
   "cell_type": "markdown",
   "metadata": {},
   "source": [
    "- We can convert numbers in a string into a number using `int()`."
   ]
  },
  {
   "cell_type": "code",
   "execution_count": 91,
   "metadata": {},
   "outputs": [
    {
     "name": "stdout",
     "output_type": "stream",
     "text": [
      "6\n"
     ]
    }
   ],
   "source": [
    "string = '1'\n",
    "x = int(string) + 5\n",
    "print(x)"
   ]
  },
  {
   "cell_type": "markdown",
   "metadata": {},
   "source": [
    "Python 3.6 added a new string formatting approach called formatted string literals or `f-strings`. This new way of formatting strings lets you use embedded Python expressions inside string constants. Here’s a simple example."
   ]
  },
  {
   "cell_type": "code",
   "execution_count": 221,
   "metadata": {},
   "outputs": [
    {
     "name": "stdout",
     "output_type": "stream",
     "text": [
      "hello,  world\n"
     ]
    }
   ],
   "source": [
    "string = ' world'\n",
    "print(f'hello, {string}')"
   ]
  },
  {
   "cell_type": "code",
   "execution_count": 222,
   "metadata": {},
   "outputs": [
    {
     "name": "stdout",
     "output_type": "stream",
     "text": [
      "10 + 67 = 77\n"
     ]
    }
   ],
   "source": [
    "a = 10\n",
    "b = 67\n",
    "print(f'{a} + {b} = {a+b}')"
   ]
  },
  {
   "cell_type": "markdown",
   "metadata": {},
   "source": [
    "### Task \n",
    "You have to fill in the blanks."
   ]
  },
  {
   "cell_type": "code",
   "execution_count": 226,
   "metadata": {},
   "outputs": [
    {
     "name": "stdout",
     "output_type": "stream",
     "text": [
      "The name of this boy is Alex. He is 20 years old. His native langugage is Spanish\n"
     ]
    }
   ],
   "source": [
    "age = 20\n",
    "name = 'Alex'\n",
    "langugage = 'Spanish'\n",
    "print(f'The name of this boy is {name}. He is {age} years old. His native langugage is {langugage}')"
   ]
  },
  {
   "cell_type": "markdown",
   "metadata": {},
   "source": [
    "### Task \n",
    "You have to fill in the blanks."
   ]
  },
  {
   "cell_type": "code",
   "execution_count": 227,
   "metadata": {},
   "outputs": [
    {
     "name": "stdout",
     "output_type": "stream",
     "text": [
      "the remainder of the division  of 50 and 7 is 1\n",
      "the division of 50 and 7 is 7.142857142857143\n",
      "the subtraction of 50 and 7 is 43\n"
     ]
    }
   ],
   "source": [
    "num1 = 50\n",
    "num2 = 7\n",
    "print(f'the remainder of the division  of {num1} and {num2} is {num1%num2}')\n",
    "print(f'the division of {num1} and {num2} is {num1/num2}')\n",
    "print(f'the subtraction of {num1} and {num2} is {num1-num2}')"
   ]
  },
  {
   "cell_type": "markdown",
   "metadata": {},
   "source": [
    "### Looking Inside Strings "
   ]
  },
  {
   "cell_type": "markdown",
   "metadata": {},
   "source": [
    "We can get at any single character in a string using indexing and a range of characters using slicing. The index value must be an integer and starts at zero. We can't use floats or other types, this will result into `TypeError`.Trying to access a character out of index range will rise an `IndexError`.\n",
    "\n",
    "Python allows negative indexing for strings.\n",
    "\n",
    "The index `-1` refers to the last item, `-2` to the second last item and so on.\n"
   ]
  },
  {
   "cell_type": "code",
   "execution_count": 100,
   "metadata": {},
   "outputs": [
    {
     "name": "stdout",
     "output_type": "stream",
     "text": [
      "string =  Hello, World\n",
      "The first character is \"H\"\n",
      "The last character is \"d\"\n"
     ]
    }
   ],
   "source": [
    "#Accessing string characters\n",
    "string = 'Hello, World'\n",
    "print('string = ', string)\n",
    "\n",
    "#Accessing the first character\n",
    "print(f'The first character is \"{string[0]}\"')\n",
    "\n",
    "#Accessing the last character\n",
    "print(f'The last character is \"{string[-1]}\"')\n"
   ]
  },
  {
   "cell_type": "markdown",
   "metadata": {},
   "source": [
    "You have such string `watermelon`. You have to get such characters: `n`, `m`, `l`, `a`. Use only positive indexing."
   ]
  },
  {
   "cell_type": "code",
   "execution_count": 106,
   "metadata": {},
   "outputs": [
    {
     "name": "stdout",
     "output_type": "stream",
     "text": [
      "n m l a\n"
     ]
    }
   ],
   "source": [
    "string = 'watermelon'\n",
    "n = string[9]\n",
    "m = string[5]\n",
    "l = string[7]\n",
    "a = string[1]\n",
    "print(n, m, l, a)"
   ]
  },
  {
   "cell_type": "markdown",
   "metadata": {},
   "source": [
    "You have such string `watermelon`. You have to get such characters: `n`, `m`, `l`, `a`. Use only negative indexing."
   ]
  },
  {
   "cell_type": "code",
   "execution_count": 113,
   "metadata": {},
   "outputs": [
    {
     "name": "stdout",
     "output_type": "stream",
     "text": [
      "n m l a\n"
     ]
    }
   ],
   "source": [
    "string = 'watermelon'\n",
    "n = string[-1]\n",
    "m = string[-5]\n",
    "l = string[-3]\n",
    "a = string[-9]\n",
    "print(n, m, l, a)"
   ]
  },
  {
   "cell_type": "markdown",
   "metadata": {},
   "source": [
    "### String Slicing in Python "
   ]
  },
  {
   "cell_type": "markdown",
   "metadata": {},
   "source": [
    "Python slicing is about obtaining a sub-string from the given string by slicing it respectively from start to end. Python slicing can be done in two ways: \n",
    "- `slice()` Constructor\n",
    "- Extending Indexing."
   ]
  },
  {
   "cell_type": "markdown",
   "metadata": {},
   "source": [
    "### slice() Constructor\n",
    "\n",
    "The `slice()` constructor creates a slice object representing the set of indices specified by `range(start, stop, step)`.\n",
    "\n",
    "Syntax: \n",
    "- slice(stop)\n",
    "- slice(start, stop, step)\n",
    "\n",
    "Parameter values :\n",
    "- start: Starting index where the slicing starts\n",
    "- stop: Ending index where the slicing stops.\n",
    "- step: This argument determines the increment between each index for slicing.\n",
    "\n",
    "Return value: `a sliced object containing elements in the given range only.`"
   ]
  },
  {
   "cell_type": "markdown",
   "metadata": {},
   "source": [
    "**Note**: The ending index  is `up to but not including`\n",
    "\n",
    "**Remember** that the first item has index 0."
   ]
  },
  {
   "cell_type": "code",
   "execution_count": 125,
   "metadata": {},
   "outputs": [
    {
     "name": "stdout",
     "output_type": "stream",
     "text": [
      "Pyth\n",
      "to\n",
      "nh\n"
     ]
    }
   ],
   "source": [
    "#string slicing\n",
    "  \n",
    "string ='Python'\n",
    "  \n",
    "# Using slice constructor\n",
    "string_1 = slice(4)\n",
    "string_2 = slice(2, 6, 2) \n",
    "string_3 = slice(-1, -5, -2)\n",
    "  \n",
    "print(string[string_1]) \n",
    "print(string[string_2]) \n",
    "print(string[string_3])"
   ]
  },
  {
   "cell_type": "markdown",
   "metadata": {},
   "source": [
    "You have such string `hello, world`. Using `slice()` constructor you have to get such string: `ll`, `eowl`, `world`. Use only positive indexing."
   ]
  },
  {
   "cell_type": "code",
   "execution_count": 134,
   "metadata": {},
   "outputs": [
    {
     "name": "stdout",
     "output_type": "stream",
     "text": [
      "ll\n",
      "eowl\n",
      "world\n"
     ]
    }
   ],
   "source": [
    "#string slicing\n",
    "  \n",
    "string ='hello, world'\n",
    "  \n",
    "# Using slice constructor\n",
    "string_1 = slice(2, 4, 1)\n",
    "string_2 = slice(1, 12, 3) \n",
    "string_3 = slice(7, 12, 1)\n",
    "  \n",
    "print(string[string_1]) \n",
    "print(string[string_2]) \n",
    "print(string[string_3])"
   ]
  },
  {
   "cell_type": "markdown",
   "metadata": {},
   "source": [
    "### Extending indexing"
   ]
  },
  {
   "cell_type": "markdown",
   "metadata": {},
   "source": [
    "In Python, indexing syntax can be used as a substitute for the slice object. This is an easy and convenient way to slice a string both syntax wise and execution wise.\n",
    "\n",
    "Syntax: `string[start:end:step]`\n",
    "\n",
    "Parameter values :\n",
    "\n",
    "- start: Starting index where the slicing starts\n",
    "- stop: Ending index where the slicing stops.\n",
    "- step: This argument determines the increment between each index for slicing.\n",
    "\n",
    "**NOTE** The ending index is up to but not including."
   ]
  },
  {
   "cell_type": "markdown",
   "metadata": {},
   "source": [
    "- to print elements from beginning to a range use [: End Index],\n",
    "- to print elements from end-use [:-End Index],\n",
    "- to print elements from specific Index till the end use [Start Index:],\n",
    "- to print elements within a range, use [Start Index:End Index]\n",
    "- to print the whole List with the use of slicing operation, use [:].\n",
    "- to print the whole List in reverse order, use [::-1]."
   ]
  },
  {
   "cell_type": "code",
   "execution_count": 139,
   "metadata": {},
   "outputs": [
    {
     "name": "stdout",
     "output_type": "stream",
     "text": [
      "Initial STRING:  ABCDEFGHIJKLMNO\n",
      "\n",
      "Slicing elements in a range 7-13:  HIJKLM\n"
     ]
    }
   ],
   "source": [
    "# Creating a string\n",
    "string = 'ABCDEFGHIJKLMNO'\n",
    "print(\"Initial STRING: \", string)\n",
    "\n",
    "# Extending indexing\n",
    "string_1 = string[7:13]\n",
    "print(\"\\nSlicing elements in a range 7-13: \", string_1)\n"
   ]
  },
  {
   "cell_type": "code",
   "execution_count": 140,
   "metadata": {},
   "outputs": [
    {
     "name": "stdout",
     "output_type": "stream",
     "text": [
      "\n",
      "Elements sliced from 5th element till the end:  FGHIJKLMNO\n"
     ]
    }
   ],
   "source": [
    "#Print elements from a pre-defined point to end\n",
    "string_2 = string[5:]\n",
    "print(\"\\nElements sliced from 5th element till the end: \", string_2)"
   ]
  },
  {
   "cell_type": "code",
   "execution_count": 142,
   "metadata": {},
   "outputs": [
    {
     "name": "stdout",
     "output_type": "stream",
     "text": [
      "\n",
      "Printing all elements using slice operation:  ABCDEFGHIJKLMNO\n"
     ]
    }
   ],
   "source": [
    "# Printing elements from beginning till end\n",
    "string_3 = string[:]\n",
    "print(\"\\nPrinting all elements using slice operation: \", string_3)\n"
   ]
  },
  {
   "cell_type": "markdown",
   "metadata": {},
   "source": [
    "### TASK\n",
    "You have such a string `1_2_3_4_5_6_7_8_9_0`. \n",
    "You have to do such steps: \n",
    "1. print elements from beginning till the end\n",
    "2. print elements from 4th element till the end\n",
    "3. print elemnts in a range 2-7"
   ]
  },
  {
   "cell_type": "code",
   "execution_count": 144,
   "metadata": {},
   "outputs": [
    {
     "name": "stdout",
     "output_type": "stream",
     "text": [
      "\n",
      "Printing all elements using slice operation:  1_2_3_4_5_6_7_8_9_0\n",
      "\n",
      "Elements sliced from 4th element till the end:  3_4_5_6_7_8_9_0\n",
      "\n",
      "Slicing elements in a range 2-7:  2_3_4\n"
     ]
    }
   ],
   "source": [
    "string = '1_2_3_4_5_6_7_8_9_0'\n",
    "\n",
    "string_1 = string[:]\n",
    "print(\"\\nPrinting all elements \", string_1)\n",
    "\n",
    "\n",
    "string_2 = string[4:]\n",
    "print(\"\\nElements sliced from 4th element till the end: \", string_2)\n",
    "\n",
    "string_3 = string[2:7]\n",
    "print(\"\\nSlicing elements in a range 2-7: \", string_3)\n"
   ]
  },
  {
   "cell_type": "markdown",
   "metadata": {},
   "source": [
    "### Negative indexing"
   ]
  },
  {
   "cell_type": "code",
   "execution_count": 151,
   "metadata": {},
   "outputs": [
    {
     "name": "stdout",
     "output_type": "stream",
     "text": [
      "Initial string:  Python is easy\n",
      "\n",
      "Elements sliced till 6th element from last:  Python \n",
      "\n",
      "Elements sliced from index -6 to -1: is \n",
      "\n",
      "Printing List in reverse:  ysae si nohtyP\n"
     ]
    }
   ],
   "source": [
    "# Creating a string\n",
    "string = 'Python is easy'\n",
    "print(\"Initial string: \", string)\n",
    "  \n",
    "# Print elements from beginning to a pre-defined point using Slice\n",
    "string_1 = string[:-7]\n",
    "print(\"\\nElements sliced till 6th element from last: \", string_1)\n",
    "  \n",
    "# Print elements of a range using negative index List slicing\n",
    "string_2 = string[-7:-4]\n",
    "print(\"\\nElements sliced from index -6 to -1:\",string_2)\n",
    "  \n",
    "# Printing elements in reverse using Slice operation\n",
    "string_3 = string[::-1]\n",
    "print(\"\\nPrinting List in reverse: \", string_3)\n"
   ]
  },
  {
   "cell_type": "markdown",
   "metadata": {},
   "source": [
    "### Task\n",
    "You have such a string `programming`. \n",
    "You have to do such steps: \n",
    "1. print elements sliced till 8th element from last\n",
    "2. print elements sliced from index -8 to -2\n",
    "3. print elements in reverse using Slice operation"
   ]
  },
  {
   "cell_type": "code",
   "execution_count": 152,
   "metadata": {},
   "outputs": [
    {
     "name": "stdout",
     "output_type": "stream",
     "text": [
      "Initial string:  programming\n",
      "\n",
      "Elements sliced till 6th element from last:  pro\n",
      "\n",
      "Elements sliced from index -6 to -1: grammi\n",
      "\n",
      "Printing List in reverse:  gnimmargorp\n"
     ]
    }
   ],
   "source": [
    "# Creating a string\n",
    "string = 'programming'\n",
    "print(\"Initial string: \", string)\n",
    "  \n",
    "# Print elements from beginning to a pre-defined point using Slice\n",
    "string_1 = string[:-8]\n",
    "print(\"\\nElements sliced till 6th element from last: \", string_1)\n",
    "  \n",
    "# Print elements of a range using negative index List slicing\n",
    "string_2 = string[-8:-2]\n",
    "print(\"\\nElements sliced from index -6 to -1:\",string_2)\n",
    "  \n",
    "# Printing elements in reverse using Slice operation\n",
    "string_3 = string[::-1]\n",
    "print(\"\\nPrinting List in reverse: \", string_3)\n"
   ]
  },
  {
   "cell_type": "markdown",
   "metadata": {},
   "source": [
    "### Strings have Length \n",
    "The built-in function `len()` gives uf the length of a string."
   ]
  },
  {
   "cell_type": "code",
   "execution_count": 153,
   "metadata": {},
   "outputs": [
    {
     "name": "stdout",
     "output_type": "stream",
     "text": [
      "the length of the string \"watermelon\"  is 10\n"
     ]
    }
   ],
   "source": [
    "string = 'watermelon'\n",
    "length = len(string)\n",
    "print(f'the length of the string \"{string}\"  is {length}')"
   ]
  },
  {
   "cell_type": "markdown",
   "metadata": {},
   "source": [
    "### Task\n",
    "You have such strings `apple`,`grape`, `orange`. \n",
    "You have to get the length of each of these strings.  Using such comparison operators\n",
    " `>, <` determine the longest string."
   ]
  },
  {
   "cell_type": "code",
   "execution_count": 164,
   "metadata": {},
   "outputs": [
    {
     "name": "stdout",
     "output_type": "stream",
     "text": [
      "str_1 is grater than str_2? False, the len of str_1 is 5, the len of str_2 is 5\n",
      "str_1 is grater than str_3? False, the len of str_1 is 5, the len of str_3 is 6\n",
      "str_2 is grater than str_3? False, the len of str_2 is 5, the len of str_3 is 6\n",
      "str_3 is grater than str_2? True, the len of str_3 is 6, the len of str_2 is 5\n",
      "str_3 is grater than str_1? True, the len of str_3 is 6, the len of str_1 is 5\n"
     ]
    }
   ],
   "source": [
    "str_1 = 'apple'\n",
    "str_2 = 'grape'\n",
    "str_3 = 'orange'\n",
    "\n",
    "len_1 = len(str_1)\n",
    "len_2 = len(str_2)\n",
    "len_3 = len(str_3)\n",
    "\n",
    "print(f'str_1 is grater than str_2? {str_1 > str_2}, the len of str_1 is {len_1}, the len of str_2 is {len_2}')\n",
    "print(f'str_1 is grater than str_3? {str_1 > str_3}, the len of str_1 is {len_1}, the len of str_3 is {len_3}')\n",
    "print(f'str_2 is grater than str_3? {str_2 > str_3}, the len of str_2 is {len_2}, the len of str_3 is {len_3}')\n",
    "print(f'str_3 is grater than str_2? {str_3 > str_2}, the len of str_3 is {len_3}, the len of str_2 is {len_2}')\n",
    "print(f'str_3 is grater than str_1? {str_3 > str_1}, the len of str_3 is {len_3}, the len of str_1 is {len_1}')\n"
   ]
  },
  {
   "cell_type": "markdown",
   "metadata": {},
   "source": [
    "The longest string is :\n",
    "- str_1 \n",
    "- str_2\n",
    "- str_3 + "
   ]
  },
  {
   "cell_type": "markdown",
   "metadata": {},
   "source": [
    "### Looping through strings. While loop"
   ]
  },
  {
   "cell_type": "markdown",
   "metadata": {},
   "source": [
    "Using a `while` statement and an `iteration variable` and the `len()` function we can construct a loop to look at each of the letters in a string individually."
   ]
  },
  {
   "cell_type": "code",
   "execution_count": 166,
   "metadata": {},
   "outputs": [
    {
     "name": "stdout",
     "output_type": "stream",
     "text": [
      "0 s\n",
      "1 t\n",
      "2 r\n",
      "3 a\n",
      "4 w\n",
      "5 b\n",
      "6 e\n",
      "7 r\n",
      "8 r\n",
      "9 y\n"
     ]
    }
   ],
   "source": [
    "string = 'strawberry'\n",
    "index = 0\n",
    "while index < len(string):\n",
    "    letter = string[index]\n",
    "    print(index, letter)\n",
    "    index +=1"
   ]
  },
  {
   "cell_type": "markdown",
   "metadata": {},
   "source": [
    "You have such a string `pomegranate`. You have to print all characters except `e`, `a`, `o`.\n",
    "You have to use `while` statement, `if` statement ."
   ]
  },
  {
   "cell_type": "code",
   "execution_count": 198,
   "metadata": {},
   "outputs": [
    {
     "name": "stdout",
     "output_type": "stream",
     "text": [
      "0 p\n",
      "2 m\n",
      "4 g\n",
      "5 r\n",
      "7 n\n",
      "9 t\n"
     ]
    }
   ],
   "source": [
    "string = 'pomegranate'\n",
    "index = 0\n",
    "while index < len(string):\n",
    "    letter = string[index]\n",
    "    if letter is 'e':\n",
    "        pass\n",
    "    elif letter is 'a':\n",
    "        pass\n",
    "    elif letter is 'o':\n",
    "        pass\n",
    "    else:\n",
    "        print(index, letter)\n",
    "    index +=1"
   ]
  },
  {
   "cell_type": "markdown",
   "metadata": {},
   "source": [
    "### Looping through strings. For loop"
   ]
  },
  {
   "cell_type": "markdown",
   "metadata": {},
   "source": [
    "A definite loop using a `for` statement is much more elegant. The iteration variable is completely taken care of by the `for` loop."
   ]
  },
  {
   "cell_type": "code",
   "execution_count": 199,
   "metadata": {},
   "outputs": [
    {
     "name": "stdout",
     "output_type": "stream",
     "text": [
      "s\n",
      "t\n",
      "r\n",
      "a\n",
      "w\n",
      "b\n",
      "e\n",
      "r\n",
      "r\n",
      "y\n"
     ]
    }
   ],
   "source": [
    "string = 'strawberry'\n",
    "for i in string:\n",
    "    print(i)"
   ]
  },
  {
   "cell_type": "markdown",
   "metadata": {},
   "source": [
    "You have such a string `pomegranate`. You have to print all characters except `e`, `a`, `o`.\n",
    "You have to use `for` statement, `if` statement ."
   ]
  },
  {
   "cell_type": "code",
   "execution_count": 201,
   "metadata": {},
   "outputs": [
    {
     "name": "stdout",
     "output_type": "stream",
     "text": [
      "p\n",
      "m\n",
      "g\n",
      "r\n",
      "n\n",
      "t\n"
     ]
    }
   ],
   "source": [
    "string = 'pomegranate'\n",
    "for i in string:\n",
    "    if i is 'e':\n",
    "        pass\n",
    "    elif i is 'a':\n",
    "        pass\n",
    "    elif i is 'o':\n",
    "        pass\n",
    "    else:\n",
    "        print(i)"
   ]
  },
  {
   "cell_type": "markdown",
   "metadata": {},
   "source": [
    "### Looping and counting \n",
    "This is a simple loop that iterates over each letter in a string and counts how many times the  the loop encounters the `r` character."
   ]
  },
  {
   "cell_type": "code",
   "execution_count": 203,
   "metadata": {},
   "outputs": [
    {
     "name": "stdout",
     "output_type": "stream",
     "text": [
      "3\n"
     ]
    }
   ],
   "source": [
    "string = 'strawberry'\n",
    "count = 0\n",
    "for i in string:\n",
    "    if i == 'r':\n",
    "        count += 1\n",
    "print(count)"
   ]
  },
  {
   "cell_type": "markdown",
   "metadata": {},
   "source": [
    "You have such a string\n",
    "\n",
    "`Lorem ipsum dolor sit amet,\n",
    "consectetur adipiscing elit,\n",
    "sed do eiusmod tempor incididunt\n",
    "ut labore et dolore magna aliqua.`\n",
    "\n",
    "You have to count how many times the loop encounters `l`, `a`, `d` characters."
   ]
  },
  {
   "cell_type": "code",
   "execution_count": 207,
   "metadata": {},
   "outputs": [
    {
     "name": "stdout",
     "output_type": "stream",
     "text": [
      "we encountered with l - 5 times, with a - 7 times, with d - 8 times\n"
     ]
    }
   ],
   "source": [
    "string = '''Lorem ipsum dolor sit amet,\n",
    "consectetur adipiscing elit,\n",
    "sed do eiusmod tempor incididunt\n",
    "ut labore et dolore magna aliqua.'''\n",
    "count_l = 0\n",
    "count_a = 0\n",
    "count_d = 0\n",
    "for i in string:\n",
    "    if i == 'l':\n",
    "        count_l += 1\n",
    "    elif i == 'a':\n",
    "        count_a += 1\n",
    "    elif i == 'd':\n",
    "        count_d += 1\n",
    "print(f'we encountered with l - {count_l} times, with a - {count_a} times, with d - {count_d} times')"
   ]
  },
  {
   "cell_type": "markdown",
   "metadata": {},
   "source": [
    "### Deletion of a character\n"
   ]
  },
  {
   "cell_type": "markdown",
   "metadata": {},
   "source": [
    "Deleting and updating characters from a string is not allowed. It's because the strings are immutable, so the elements of the string cannot be changed after it is assigned.  This will cause an error because assigning an item or deleting an item from a string is not supported. Although deleting the entire line is possible with the built-in keyword del."
   ]
  },
  {
   "cell_type": "markdown",
   "metadata": {},
   "source": [
    "The `del` keyword in python is primarily used to delete objects in Python.\n",
    "\n",
    "Syntax: `del object_name`"
   ]
  },
  {
   "cell_type": "code",
   "execution_count": 208,
   "metadata": {},
   "outputs": [
    {
     "name": "stdout",
     "output_type": "stream",
     "text": [
      "Initial String:  python\n"
     ]
    },
    {
     "ename": "TypeError",
     "evalue": "'str' object doesn't support item deletion",
     "output_type": "error",
     "traceback": [
      "\u001b[1;31m---------------------------------------------------------------------------\u001b[0m",
      "\u001b[1;31mTypeError\u001b[0m                                 Traceback (most recent call last)",
      "\u001b[1;32m<ipython-input-208-32ee7e337dba>\u001b[0m in \u001b[0;36m<module>\u001b[1;34m\u001b[0m\n\u001b[0;32m      2\u001b[0m \u001b[0mprint\u001b[0m\u001b[1;33m(\u001b[0m\u001b[1;34m\"Initial String: \"\u001b[0m\u001b[1;33m,\u001b[0m \u001b[0mstring\u001b[0m\u001b[1;33m)\u001b[0m\u001b[1;33m\u001b[0m\u001b[1;33m\u001b[0m\u001b[0m\n\u001b[0;32m      3\u001b[0m \u001b[1;33m\u001b[0m\u001b[0m\n\u001b[1;32m----> 4\u001b[1;33m \u001b[1;32mdel\u001b[0m \u001b[0mstring\u001b[0m\u001b[1;33m[\u001b[0m\u001b[1;36m5\u001b[0m\u001b[1;33m]\u001b[0m\u001b[1;33m\u001b[0m\u001b[1;33m\u001b[0m\u001b[0m\n\u001b[0m\u001b[0;32m      5\u001b[0m \u001b[0mprint\u001b[0m\u001b[1;33m(\u001b[0m\u001b[1;34m\"\\nDeleting character at 2nd Index: \"\u001b[0m\u001b[1;33m,\u001b[0m \u001b[0mstring\u001b[0m\u001b[1;33m)\u001b[0m\u001b[1;33m\u001b[0m\u001b[1;33m\u001b[0m\u001b[0m\n",
      "\u001b[1;31mTypeError\u001b[0m: 'str' object doesn't support item deletion"
     ]
    }
   ],
   "source": [
    "string = \"python\"\n",
    "print(\"Initial String: \", string)\n",
    "  \n",
    "del string[5] \n",
    "print(\"\\nDeleting character at 2nd Index: \", string)\n"
   ]
  },
  {
   "cell_type": "code",
   "execution_count": 209,
   "metadata": {},
   "outputs": [
    {
     "name": "stdout",
     "output_type": "stream",
     "text": [
      "Initial String:  python\n"
     ]
    },
    {
     "ename": "NameError",
     "evalue": "name 'string' is not defined",
     "output_type": "error",
     "traceback": [
      "\u001b[1;31m---------------------------------------------------------------------------\u001b[0m",
      "\u001b[1;31mNameError\u001b[0m                                 Traceback (most recent call last)",
      "\u001b[1;32m<ipython-input-209-27e690b5ed92>\u001b[0m in \u001b[0;36m<module>\u001b[1;34m\u001b[0m\n\u001b[0;32m      4\u001b[0m \u001b[1;33m\u001b[0m\u001b[0m\n\u001b[0;32m      5\u001b[0m \u001b[1;32mdel\u001b[0m \u001b[0mstring\u001b[0m\u001b[1;33m\u001b[0m\u001b[1;33m\u001b[0m\u001b[0m\n\u001b[1;32m----> 6\u001b[1;33m \u001b[0mprint\u001b[0m\u001b[1;33m(\u001b[0m\u001b[1;34m\"\\nDeleting entire String: \"\u001b[0m\u001b[1;33m,\u001b[0m \u001b[0mstring\u001b[0m\u001b[1;33m)\u001b[0m\u001b[1;33m\u001b[0m\u001b[1;33m\u001b[0m\u001b[0m\n\u001b[0m",
      "\u001b[1;31mNameError\u001b[0m: name 'string' is not defined"
     ]
    }
   ],
   "source": [
    "string = \"python\"\n",
    "print(\"Initial String: \", string)\n",
    "  \n",
    "\n",
    "del string \n",
    "print(\"\\nDeleting entire String: \", string)"
   ]
  },
  {
   "cell_type": "markdown",
   "metadata": {},
   "source": [
    "### Check String \n",
    "To check if a certain phrase or character is present in a string, we can use the keyword `in`."
   ]
  },
  {
   "cell_type": "code",
   "execution_count": 212,
   "metadata": {},
   "outputs": [
    {
     "name": "stdout",
     "output_type": "stream",
     "text": [
      "True\n",
      "False\n"
     ]
    }
   ],
   "source": [
    "string = 'Pear Lime Banana'\n",
    "print('Lime' in string)\n",
    "print('Mango' in string)"
   ]
  },
  {
   "cell_type": "markdown",
   "metadata": {},
   "source": [
    "### Task \n",
    "You have a string. You should check that this line contains such substrings `Lorem`, `python`, `consectetur`.\n",
    "If there is such a substring, then calculate its length."
   ]
  },
  {
   "cell_type": "code",
   "execution_count": 220,
   "metadata": {},
   "outputs": [
    {
     "name": "stdout",
     "output_type": "stream",
     "text": [
      "the length of Lorem is 5\n",
      "this line does not contain such word as `python`\n",
      "the length of consectetur is 11\n"
     ]
    }
   ],
   "source": [
    "string = '''Lorem ipsum dolor sit amet,\n",
    "consectetur adipiscing elit,\n",
    "sed do eiusmod tempor incididunt\n",
    "ut labore et dolore magna aliqua.'''\n",
    "\n",
    "sub_str1 = 'Lorem'\n",
    "sub_str2 = 'python'\n",
    "sub_str3 = 'consectetur'\n",
    "if sub_str1 in string:\n",
    "    print(f'the length of {sub_str1} is {len(sub_str1)}')\n",
    "else:\n",
    "    print(f'this line does not contain {sub_str1}')\n",
    "    \n",
    "if sub_str2 in string:\n",
    "    print(f'the length of {sub_str2} is {len(sub_str2)}')\n",
    "else:\n",
    "    print(f'this line does not contain such word as `{sub_str2}`')\n",
    "    \n",
    "if sub_str3 in string:\n",
    "    print(f'the length of {sub_str3} is {len(sub_str3)}')\n",
    "else:\n",
    "    print(f'this line does not contain {sub_str3}')\n"
   ]
  },
  {
   "cell_type": "markdown",
   "metadata": {},
   "source": [
    "### Modify Strings \n",
    "Python has a set of built-in methods that you can use on strings."
   ]
  },
  {
   "cell_type": "markdown",
   "metadata": {},
   "source": [
    "#### Upper Case \n",
    "The `upper()` method returns the string in upper case:"
   ]
  },
  {
   "cell_type": "code",
   "execution_count": 231,
   "metadata": {},
   "outputs": [
    {
     "name": "stdout",
     "output_type": "stream",
     "text": [
      "PYTHON\n"
     ]
    }
   ],
   "source": [
    "string = 'Python'\n",
    "print(string.upper())"
   ]
  },
  {
   "cell_type": "markdown",
   "metadata": {},
   "source": [
    "#### Lower Case \n",
    "he `lower()` method returns the string in lower case:"
   ]
  },
  {
   "cell_type": "code",
   "execution_count": 230,
   "metadata": {},
   "outputs": [
    {
     "name": "stdout",
     "output_type": "stream",
     "text": [
      "python\n"
     ]
    }
   ],
   "source": [
    "string = 'Python'\n",
    "print(string.lower())"
   ]
  },
  {
   "cell_type": "markdown",
   "metadata": {},
   "source": [
    "#### Remove Whitespace \n",
    "Whitespace is the space before and/or after the actual text, and very often you want to remove this space.\n",
    "\n",
    "The `strip()` method removes any whitespace from the beginning or the end:\n"
   ]
  },
  {
   "cell_type": "code",
   "execution_count": 238,
   "metadata": {},
   "outputs": [
    {
     "name": "stdout",
     "output_type": "stream",
     "text": [
      "   Python is easy   \n",
      "Python is easy\n"
     ]
    }
   ],
   "source": [
    "string = \"   Python is easy   \"\n",
    "\n",
    "print(string) # With whitespace\n",
    "print(string.strip()) #Without whitespace"
   ]
  },
  {
   "cell_type": "markdown",
   "metadata": {},
   "source": [
    "#### Replace String \n",
    "The `replace()` method replaces a string with another string.\n",
    "\n",
    "Syntax `string.replace(oldvalue, newvalue, count)`\n",
    "\n",
    "Parameter Values\n",
    "- oldvalue\tRequired. The string to search for\n",
    "- newvalue\tRequired. The string to replace the old value with\n",
    "- count\tOptional. A number specifying how many occurrences of the old value you want to replace. Default is all occurrences"
   ]
  },
  {
   "cell_type": "code",
   "execution_count": 244,
   "metadata": {},
   "outputs": [
    {
     "name": "stdout",
     "output_type": "stream",
     "text": [
      "Apricot, Kiwi, Orange, Apricot, Grape, Lime, Pomegranate\n"
     ]
    }
   ],
   "source": [
    "string = \"Pomegranate, Kiwi, Orange, Pomegranate, Grape, Lime, Pomegranate\"\n",
    "new_string = string.replace(\"Pomegranate\", \"Apricot\", 2)\n",
    "print(new_string)"
   ]
  },
  {
   "cell_type": "markdown",
   "metadata": {},
   "source": [
    "###  Task \n",
    "You have such a string \n",
    "\n",
    "`string = '   London is the capital and popular city of England and the United Kingdom.The city stands on the lake Thames in southeast England, at the head of its 50-mile estuary leading to the North Sea   '`\n",
    "\n",
    "You have to get such a new string.\n",
    "\n",
    "`new_string = 'LONDON IS THE CAPITAL AND POPULAR CITY OF ENGLAND AND THE UNITED KINGDOM.\\nTHE CITY STANDS ON THE LAKE THAMES IN SOUTHEAST ENGLAND, AT THE HEAD OF ITS 50-MILE ESTUARY LEADING TO THE NORTH SEA'`"
   ]
  },
  {
   "cell_type": "code",
   "execution_count": 256,
   "metadata": {},
   "outputs": [
    {
     "data": {
      "text/plain": [
       "'LONDON IS THE CAPITAL AND POPULAR CITY OF ENGLAND AND THE UNITED KINGDOM.\\nTHE CITY STANDS ON THE LAKE THAMES IN SOUTHEAST ENGLAND, AT THE HEAD OF ITS 50-MILE ESTUARY LEADING TO THE NORTH SEA'"
      ]
     },
     "execution_count": 256,
     "metadata": {},
     "output_type": "execute_result"
    }
   ],
   "source": [
    "string = '''   London is the capital and popular city of England and the United Kingdom.\n",
    "The city stands on the lake Thames in southeast England, at the head of its 50-mile estuary leading to the North Sea   '''\n",
    "new_string = string.strip()\n",
    "new_string = new_string.upper()\n",
    "new_string = new_string.replace('popular', 'largest')\n",
    "new_string = new_string.replace('lake', 'river')\n",
    "new_string = new_string.replace('50-mile estuary', '70-mile estuary')\n",
    "new_string"
   ]
  },
  {
   "cell_type": "markdown",
   "metadata": {},
   "source": [
    "### Split String\n"
   ]
  },
  {
   "cell_type": "markdown",
   "metadata": {},
   "source": [
    "`split()` method -- split a string into a list of strings after breaking the given string by the specified separator.\n",
    "\n",
    "\n",
    "**A list is an ordered and mutable Python container, being one of the most common data structures in Python.**\n",
    "\n",
    "Syntax : `str.split(separator, maxsplit)`\n",
    "\n",
    "Parameters :\n",
    "- separator : This is a delimiter. The string splits at this specified separator. If is not provided then any white space is a separator.\n",
    "\n",
    "- maxsplit : It is a number, which tells us to split the string into maximum of provided number of times. If it is not provided then the default is -1 that means there is no limit.\n",
    "\n",
    "Return value : `a list of strings after breaking the given string by the specified separator.`"
   ]
  },
  {
   "cell_type": "code",
   "execution_count": 258,
   "metadata": {},
   "outputs": [
    {
     "name": "stdout",
     "output_type": "stream",
     "text": [
      "['Blueberry', 'Raspberry', 'Strawberry', 'Avocado']\n"
     ]
    }
   ],
   "source": [
    "string = 'Blueberry Raspberry Strawberry Avocado'\n",
    "  \n",
    "# Splits at space\n",
    "print(string.split())"
   ]
  },
  {
   "cell_type": "code",
   "execution_count": 260,
   "metadata": {},
   "outputs": [
    {
     "name": "stdout",
     "output_type": "stream",
     "text": [
      "['Blueberry', ' Raspberry', ' Strawberry', ' Avocado']\n"
     ]
    }
   ],
   "source": [
    "string = 'Blueberry, Raspberry, Strawberry, Avocado'\n",
    "  \n",
    "# Splits at ','\n",
    "print(string.split(','))\n"
   ]
  },
  {
   "cell_type": "code",
   "execution_count": 261,
   "metadata": {},
   "outputs": [
    {
     "name": "stdout",
     "output_type": "stream",
     "text": [
      "['Blueberry', 'Raspberry', 'Strawberry', 'Avocado']\n"
     ]
    }
   ],
   "source": [
    "string = 'Blueberry:Raspberry:Strawberry:Avocado'\n",
    "  \n",
    "# Splitting at ':'\n",
    "print(string.split(':'))"
   ]
  },
  {
   "cell_type": "code",
   "execution_count": 264,
   "metadata": {},
   "outputs": [
    {
     "name": "stdout",
     "output_type": "stream",
     "text": [
      "['Blueberry', 'Raspberry', 'Strawberry', 'Avocado']\n"
     ]
    }
   ],
   "source": [
    "string = 'BlueberryorRaspberryorStrawberryorAvocado'\n",
    "  \n",
    "# Splitting at or\n",
    "print(string.split('or'))"
   ]
  },
  {
   "cell_type": "code",
   "execution_count": 267,
   "metadata": {},
   "outputs": [
    {
     "name": "stdout",
     "output_type": "stream",
     "text": [
      "['Blueberry', 'Raspberry', 'Strawberry, Avocado']\n",
      "['Blueberry', 'Raspberry', 'Strawberry', 'Avocado']\n",
      "['Blueberry', 'Raspberry, Strawberry, Avocado']\n"
     ]
    }
   ],
   "source": [
    "string = 'Blueberry, Raspberry, Strawberry, Avocado'\n",
    "  \n",
    "# maxsplit: 2\n",
    "print(string.split(', ', 2))\n",
    "  \n",
    "# maxsplit: 4\n",
    "print(string.split(', ', 3))\n",
    "  \n",
    "# maxsplit: 1\n",
    "print(string.split(', ', 1))"
   ]
  },
  {
   "cell_type": "markdown",
   "metadata": {},
   "source": [
    "### Task\n",
    "You have such a string \n",
    "\n",
    "string = 'Italy, officially the Italian Republic, is a country consisting of a peninsula delimited by the Alps and several islands surrounding it. Italy is located in the center of the Mediterranean Sea, in Southern Europe, and is also often considered part of Western Europe.'\n",
    "\n",
    "You have to get such lists:\n",
    "`['Italy', 'officially the Italian Republic', 'is a country consisting of a peninsula delimited by the Alps and several islands surrounding it. \\nItaly is located in the center of the Mediterranean Sea, in Southern Europe, and is also often considered part of Western Europe.']`\n",
    "\n",
    "`['Italy, officially the Italian Republic, ', 'a country consisting of a peninsula delimited by the Alps and several islands surrounding it. \\nItaly ', 'located in the center of the Mediterranean Sea, in Southern Europe, and ', 'also often considered part of Western Europe.']`\n"
   ]
  },
  {
   "cell_type": "code",
   "execution_count": 269,
   "metadata": {},
   "outputs": [
    {
     "name": "stdout",
     "output_type": "stream",
     "text": [
      "['Italy', 'officially the Italian Republic', 'is a country consisting of a peninsula delimited by the Alps and several islands surrounding it. \\nItaly is located in the center of the Mediterranean Sea, in Southern Europe, and is also often considered part of Western Europe.']\n",
      "['Italy, officially the Italian Republic, ', 'a country consisting of a peninsula delimited by the Alps and several islands surrounding it. \\nItaly ', 'located in the center of the Mediterranean Sea, in Southern Europe, and ', 'also often considered part of Western Europe.']\n"
     ]
    }
   ],
   "source": [
    "string = '''Italy, officially the Italian Republic, is a country consisting of a peninsula delimited by the Alps and several islands surrounding it. \n",
    "Italy is located in the center of the Mediterranean Sea, in Southern Europe, and is also often considered part of Western Europe.'''  \n",
    "\n",
    "print(string.split(', ', 2))\n",
    "  \n",
    "# maxsplit: 4\n",
    "print(string.split('is ', 3))"
   ]
  },
  {
   "cell_type": "markdown",
   "metadata": {},
   "source": [
    "### String Concatenation"
   ]
  },
  {
   "cell_type": "markdown",
   "metadata": {},
   "source": [
    "When the `+` operator is applied to strings, it means `concatenation`."
   ]
  },
  {
   "cell_type": "code",
   "execution_count": 274,
   "metadata": {},
   "outputs": [
    {
     "name": "stdout",
     "output_type": "stream",
     "text": [
      "hello, World\n"
     ]
    }
   ],
   "source": [
    "string_1 = 'hello'\n",
    "string_2 = 'World'\n",
    "print(string_1 + ', ' + string_2)"
   ]
  },
  {
   "cell_type": "markdown",
   "metadata": {},
   "source": [
    "### Task\n",
    "You have such strings\n",
    "\n",
    " `Kiwi`, `Lemon`, `Papaya`, `Coconut`.\n",
    "\n",
    "You have to get such list\n",
    "\n",
    "`['KIWI', 'Jackfruit', 'PAPAYA', 'COCONUT']`\n"
   ]
  },
  {
   "cell_type": "code",
   "execution_count": 298,
   "metadata": {},
   "outputs": [
    {
     "data": {
      "text/plain": [
       "['KIWI', 'Jackfruit', 'PAPAYA', 'COCONUT']"
      ]
     },
     "execution_count": 298,
     "metadata": {},
     "output_type": "execute_result"
    }
   ],
   "source": [
    "str_1 = 'Kiwi '\n",
    "str_2 = 'Lemon '\n",
    "str_3 = 'Papaya '\n",
    "str_4 = 'Coconut'\n",
    "\n",
    "string = str_1 + str_2 + str_3 + str_4\n",
    "new_string = string.upper()\n",
    "new_string = new_string.replace('LEMON ', 'Jackfruit ')\n",
    "list_ = new_string.split(' ')\n",
    "list_"
   ]
  },
  {
   "cell_type": "markdown",
   "metadata": {},
   "source": [
    "### Searching a String\n",
    "- We use the `find()` function to search for a substring within another string.\n",
    "- `find()` finds the first occirrence of the substring\n",
    "- If the substring is not found, `find()` returns `-1`\n",
    "\n",
    "**Remember** that string position starts at zero. \n"
   ]
  },
  {
   "cell_type": "code",
   "execution_count": 305,
   "metadata": {},
   "outputs": [
    {
     "name": "stdout",
     "output_type": "stream",
     "text": [
      "the position of \"C\" is 11, and the position of \"c\" is 2\n"
     ]
    }
   ],
   "source": [
    "string = 'Jackfruit, Coconut'\n",
    "position_1 = string.find('C')\n",
    "position_2 = string.find('c')\n",
    "print(f'the position of \"C\" is {position_1}, and the position of \"c\" is {position_2}')"
   ]
  },
  {
   "cell_type": "code",
   "execution_count": null,
   "metadata": {},
   "outputs": [],
   "source": []
  },
  {
   "cell_type": "code",
   "execution_count": null,
   "metadata": {},
   "outputs": [],
   "source": []
  },
  {
   "cell_type": "code",
   "execution_count": null,
   "metadata": {},
   "outputs": [],
   "source": []
  }
 ],
 "metadata": {
  "kernelspec": {
   "display_name": "Python 3",
   "language": "python",
   "name": "python3"
  },
  "language_info": {
   "codemirror_mode": {
    "name": "ipython",
    "version": 3
   },
   "file_extension": ".py",
   "mimetype": "text/x-python",
   "name": "python",
   "nbconvert_exporter": "python",
   "pygments_lexer": "ipython3",
   "version": "3.7.6"
  }
 },
 "nbformat": 4,
 "nbformat_minor": 4
}
